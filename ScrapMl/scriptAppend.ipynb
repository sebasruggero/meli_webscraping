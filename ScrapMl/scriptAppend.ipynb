{
 "cells": [
  {
   "cell_type": "code",
   "execution_count": 1,
   "metadata": {},
   "outputs": [],
   "source": [
    "import os\n",
    "import pandas as pd\n",
    "\n",
    "\n"
   ]
  },
  {
   "cell_type": "code",
   "execution_count": 2,
   "metadata": {},
   "outputs": [
    {
     "ename": "FileNotFoundError",
     "evalue": "[WinError 3] The system cannot find the path specified: '/data'",
     "output_type": "error",
     "traceback": [
      "\u001b[1;31m---------------------------------------------------------------------------\u001b[0m",
      "\u001b[1;31mFileNotFoundError\u001b[0m                         Traceback (most recent call last)",
      "Cell \u001b[1;32mIn[2], line 3\u001b[0m\n\u001b[0;32m      1\u001b[0m \u001b[38;5;66;03m# Paso 1: Obtener la lista de archivos CSV en la carpeta\u001b[39;00m\n\u001b[0;32m      2\u001b[0m carpeta \u001b[38;5;241m=\u001b[39m \u001b[38;5;124m'\u001b[39m\u001b[38;5;124m/data\u001b[39m\u001b[38;5;124m'\u001b[39m\n\u001b[1;32m----> 3\u001b[0m archivos_csv \u001b[38;5;241m=\u001b[39m [archivo \u001b[38;5;28;01mfor\u001b[39;00m archivo \u001b[38;5;129;01min\u001b[39;00m \u001b[43mos\u001b[49m\u001b[38;5;241;43m.\u001b[39;49m\u001b[43mlistdir\u001b[49m\u001b[43m(\u001b[49m\u001b[43mcarpeta\u001b[49m\u001b[43m)\u001b[49m \u001b[38;5;28;01mif\u001b[39;00m archivo\u001b[38;5;241m.\u001b[39mendswith(\u001b[38;5;124m'\u001b[39m\u001b[38;5;124m.csv\u001b[39m\u001b[38;5;124m'\u001b[39m)]\n\u001b[0;32m      5\u001b[0m \u001b[38;5;66;03m# Paso 2: Crear un DataFrame vacío para almacenar los datos combinados\u001b[39;00m\n\u001b[0;32m      6\u001b[0m df_combinado \u001b[38;5;241m=\u001b[39m pd\u001b[38;5;241m.\u001b[39mDataFrame()\n",
      "\u001b[1;31mFileNotFoundError\u001b[0m: [WinError 3] The system cannot find the path specified: '/data'"
     ]
    }
   ],
   "source": [
    "# Paso 1: Obtener la lista de archivos CSV en la carpeta\n",
    "carpeta = '/data'\n",
    "archivos_csv = [archivo for archivo in os.listdir(carpeta) if archivo.endswith('.csv')]\n",
    "\n",
    "# Paso 2: Crear un DataFrame vacío para almacenar los datos combinados\n",
    "df_combinado = pd.DataFrame()\n",
    "\n",
    "# Paso 3: Iterar sobre los archivos CSV y realizar el append\n",
    "for archivo_csv in archivos_csv:\n",
    "    ruta_completa = os.path.join(carpeta, archivo_csv)\n",
    "    df_actual = pd.read_csv(ruta_completa)\n",
    "    df_combinado = df_combinado.append(df_actual, ignore_index=True)\n",
    "\n",
    "# Paso 4: Guardar el DataFrame combinado en un nuevo archivo CSV\n",
    "df_combinado.to_csv('/data/combinado.csv', index=False)\n",
    "\n",
    "print(\"¡Operación completada con éxito!\")"
   ]
  }
 ],
 "metadata": {
  "kernelspec": {
   "display_name": "Python 3",
   "language": "python",
   "name": "python3"
  },
  "language_info": {
   "codemirror_mode": {
    "name": "ipython",
    "version": 3
   },
   "file_extension": ".py",
   "mimetype": "text/x-python",
   "name": "python",
   "nbconvert_exporter": "python",
   "pygments_lexer": "ipython3",
   "version": "3.11.7"
  }
 },
 "nbformat": 4,
 "nbformat_minor": 2
}
